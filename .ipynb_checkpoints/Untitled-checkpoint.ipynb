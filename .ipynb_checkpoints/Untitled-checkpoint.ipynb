{
 "cells": [
  {
   "cell_type": "markdown",
   "metadata": {},
   "source": [
    "### 1 Load Data and check cleaness"
   ]
  },
  {
   "cell_type": "code",
   "execution_count": 69,
   "metadata": {},
   "outputs": [],
   "source": [
    "import pandas as pd\n",
    "import numpy as np\n",
    "import os\n",
    "import urllib3\n",
    "from tqdm import tqdm\n",
    "\n",
    "cwd = os.getcwd()"
   ]
  },
  {
   "cell_type": "code",
   "execution_count": 71,
   "metadata": {},
   "outputs": [],
   "source": [
    "# Read in data\n",
    "post = pd.read_csv(cwd+'/data/post_metrics_and_comments.csv')\n",
    "htag = pd.read_csv(cwd+'/data/hashtag_top_appearances.csv')\n",
    "rawp = pd.read_csv(cwd+'/data/raw_post_metrics.csv')"
   ]
  },
  {
   "cell_type": "markdown",
   "metadata": {},
   "source": [
    "#### What's the size of data?"
   ]
  },
  {
   "cell_type": "code",
   "execution_count": 72,
   "metadata": {},
   "outputs": [
    {
     "name": "stdout",
     "output_type": "stream",
     "text": [
      "post_metrics_and_comments.csv has 11637 rows and 11 columns\n",
      "hashtag_top_appearances.csv has 25062 rows and 2 columns\n",
      "raw_post_metrics.csv has 70532 rows and 5 columns\n"
     ]
    }
   ],
   "source": [
    "print('post_metrics_and_comments.csv has {} rows and {} columns'.format(post.shape[0],post.shape[1]))\n",
    "print('hashtag_top_appearances.csv has {} rows and {} columns'.format(htag.shape[0],htag.shape[1]))\n",
    "print('raw_post_metrics.csv has {} rows and {} columns'.format(rawp.shape[0],rawp.shape[1]))"
   ]
  },
  {
   "cell_type": "markdown",
   "metadata": {},
   "source": [
    "#### What does the data look like?"
   ]
  },
  {
   "cell_type": "code",
   "execution_count": 73,
   "metadata": {},
   "outputs": [
    {
     "data": {
      "text/html": [
       "<div>\n",
       "<style scoped>\n",
       "    .dataframe tbody tr th:only-of-type {\n",
       "        vertical-align: middle;\n",
       "    }\n",
       "\n",
       "    .dataframe tbody tr th {\n",
       "        vertical-align: top;\n",
       "    }\n",
       "\n",
       "    .dataframe thead th {\n",
       "        text-align: right;\n",
       "    }\n",
       "</style>\n",
       "<table border=\"1\" class=\"dataframe\">\n",
       "  <thead>\n",
       "    <tr style=\"text-align: right;\">\n",
       "      <th></th>\n",
       "      <th>post_url</th>\n",
       "      <th>username</th>\n",
       "      <th>date_posted</th>\n",
       "      <th>img_urls</th>\n",
       "      <th>caption</th>\n",
       "      <th>max_likes</th>\n",
       "      <th>max_comments</th>\n",
       "      <th>max_views</th>\n",
       "      <th>followers</th>\n",
       "      <th>following</th>\n",
       "      <th>concatenated_comments</th>\n",
       "    </tr>\n",
       "  </thead>\n",
       "  <tbody>\n",
       "    <tr>\n",
       "      <th>0</th>\n",
       "      <td>https://www.instagram.com/p/B-y2oOeDpj2/</td>\n",
       "      <td>064_steady</td>\n",
       "      <td>2020-04-10</td>\n",
       "      <td>{https://finesse-instagram-post-images.s3-us-w...</td>\n",
       "      <td>온라인개학으로 아침마다 아이들에게 모닝콜을 해줄 수 있어서 행복합니다. 하하하하😭 ...</td>\n",
       "      <td>1019</td>\n",
       "      <td>38</td>\n",
       "      <td>NaN</td>\n",
       "      <td>8423</td>\n",
       "      <td>697</td>\n",
       "      <td>@_o9.02 가입하자 연재야😘|아고 ㅠㅠㅠㅠ 힘드실텐데 아자아자 화이팅입니다 !!...</td>\n",
       "    </tr>\n",
       "  </tbody>\n",
       "</table>\n",
       "</div>"
      ],
      "text/plain": [
       "                                   post_url    username date_posted  \\\n",
       "0  https://www.instagram.com/p/B-y2oOeDpj2/  064_steady  2020-04-10   \n",
       "\n",
       "                                            img_urls  \\\n",
       "0  {https://finesse-instagram-post-images.s3-us-w...   \n",
       "\n",
       "                                             caption  max_likes  max_comments  \\\n",
       "0  온라인개학으로 아침마다 아이들에게 모닝콜을 해줄 수 있어서 행복합니다. 하하하하😭 ...       1019            38   \n",
       "\n",
       "   max_views  followers  following  \\\n",
       "0        NaN       8423        697   \n",
       "\n",
       "                               concatenated_comments  \n",
       "0  @_o9.02 가입하자 연재야😘|아고 ㅠㅠㅠㅠ 힘드실텐데 아자아자 화이팅입니다 !!...  "
      ]
     },
     "execution_count": 73,
     "metadata": {},
     "output_type": "execute_result"
    }
   ],
   "source": [
    "post.head(1)"
   ]
  },
  {
   "cell_type": "code",
   "execution_count": 74,
   "metadata": {},
   "outputs": [
    {
     "data": {
      "text/html": [
       "<div>\n",
       "<style scoped>\n",
       "    .dataframe tbody tr th:only-of-type {\n",
       "        vertical-align: middle;\n",
       "    }\n",
       "\n",
       "    .dataframe tbody tr th {\n",
       "        vertical-align: top;\n",
       "    }\n",
       "\n",
       "    .dataframe thead th {\n",
       "        text-align: right;\n",
       "    }\n",
       "</style>\n",
       "<table border=\"1\" class=\"dataframe\">\n",
       "  <thead>\n",
       "    <tr style=\"text-align: right;\">\n",
       "      <th></th>\n",
       "      <th>post_url</th>\n",
       "      <th>days_in_hashtag_top_section</th>\n",
       "    </tr>\n",
       "  </thead>\n",
       "  <tbody>\n",
       "    <tr>\n",
       "      <th>0</th>\n",
       "      <td>https://www.instagram.com/p/B-zJQlUI6uN/</td>\n",
       "      <td>38</td>\n",
       "    </tr>\n",
       "    <tr>\n",
       "      <th>1</th>\n",
       "      <td>https://www.instagram.com/p/B-cuVYrJncn/</td>\n",
       "      <td>36</td>\n",
       "    </tr>\n",
       "    <tr>\n",
       "      <th>2</th>\n",
       "      <td>https://www.instagram.com/p/B_CHJzXDeNF/</td>\n",
       "      <td>33</td>\n",
       "    </tr>\n",
       "  </tbody>\n",
       "</table>\n",
       "</div>"
      ],
      "text/plain": [
       "                                   post_url  days_in_hashtag_top_section\n",
       "0  https://www.instagram.com/p/B-zJQlUI6uN/                           38\n",
       "1  https://www.instagram.com/p/B-cuVYrJncn/                           36\n",
       "2  https://www.instagram.com/p/B_CHJzXDeNF/                           33"
      ]
     },
     "execution_count": 74,
     "metadata": {},
     "output_type": "execute_result"
    }
   ],
   "source": [
    "htag.head(3)"
   ]
  },
  {
   "cell_type": "code",
   "execution_count": 75,
   "metadata": {},
   "outputs": [
    {
     "data": {
      "text/html": [
       "<div>\n",
       "<style scoped>\n",
       "    .dataframe tbody tr th:only-of-type {\n",
       "        vertical-align: middle;\n",
       "    }\n",
       "\n",
       "    .dataframe tbody tr th {\n",
       "        vertical-align: top;\n",
       "    }\n",
       "\n",
       "    .dataframe thead th {\n",
       "        text-align: right;\n",
       "    }\n",
       "</style>\n",
       "<table border=\"1\" class=\"dataframe\">\n",
       "  <thead>\n",
       "    <tr style=\"text-align: right;\">\n",
       "      <th></th>\n",
       "      <th>post_url</th>\n",
       "      <th>num_likes</th>\n",
       "      <th>num_comments</th>\n",
       "      <th>num_views</th>\n",
       "      <th>date_time_collected</th>\n",
       "    </tr>\n",
       "  </thead>\n",
       "  <tbody>\n",
       "    <tr>\n",
       "      <th>0</th>\n",
       "      <td>https://www.instagram.com/p/B_PNBlGDTYQ/</td>\n",
       "      <td>647</td>\n",
       "      <td>15</td>\n",
       "      <td>NaN</td>\n",
       "      <td>2020-04-21 21:00:41</td>\n",
       "    </tr>\n",
       "    <tr>\n",
       "      <th>1</th>\n",
       "      <td>https://www.instagram.com/p/B-jWhHKjDsa/</td>\n",
       "      <td>925</td>\n",
       "      <td>105</td>\n",
       "      <td>NaN</td>\n",
       "      <td>2020-04-21 21:11:39</td>\n",
       "    </tr>\n",
       "    <tr>\n",
       "      <th>2</th>\n",
       "      <td>https://www.instagram.com/p/B-eNiazDOXp/</td>\n",
       "      <td>987</td>\n",
       "      <td>73</td>\n",
       "      <td>NaN</td>\n",
       "      <td>2020-04-21 21:11:42</td>\n",
       "    </tr>\n",
       "  </tbody>\n",
       "</table>\n",
       "</div>"
      ],
      "text/plain": [
       "                                   post_url  num_likes  num_comments  \\\n",
       "0  https://www.instagram.com/p/B_PNBlGDTYQ/        647            15   \n",
       "1  https://www.instagram.com/p/B-jWhHKjDsa/        925           105   \n",
       "2  https://www.instagram.com/p/B-eNiazDOXp/        987            73   \n",
       "\n",
       "   num_views  date_time_collected  \n",
       "0        NaN  2020-04-21 21:00:41  \n",
       "1        NaN  2020-04-21 21:11:39  \n",
       "2        NaN  2020-04-21 21:11:42  "
      ]
     },
     "execution_count": 75,
     "metadata": {},
     "output_type": "execute_result"
    }
   ],
   "source": [
    "rawp.head(3)"
   ]
  },
  {
   "cell_type": "markdown",
   "metadata": {},
   "source": [
    "#### Seems like post_url is the key here between tables\n",
    "#### Is the post_url well cleaned (no space before and after), and how many distinct keys are there?"
   ]
  },
  {
   "cell_type": "code",
   "execution_count": 76,
   "metadata": {},
   "outputs": [
    {
     "name": "stdout",
     "output_type": "stream",
     "text": [
      "11637\n"
     ]
    },
    {
     "data": {
      "text/plain": [
       "True"
      ]
     },
     "execution_count": 76,
     "metadata": {},
     "output_type": "execute_result"
    }
   ],
   "source": [
    "print(len(set(post.post_url)))\n",
    "len(set(post.post_url))==len(set(post.post_url.str.strip()))"
   ]
  },
  {
   "cell_type": "code",
   "execution_count": 77,
   "metadata": {},
   "outputs": [
    {
     "name": "stdout",
     "output_type": "stream",
     "text": [
      "25062\n"
     ]
    },
    {
     "data": {
      "text/plain": [
       "True"
      ]
     },
     "execution_count": 77,
     "metadata": {},
     "output_type": "execute_result"
    }
   ],
   "source": [
    "print(len(set(htag.post_url)))\n",
    "len(set(htag.post_url))==len(set(htag.post_url.str.strip()))"
   ]
  },
  {
   "cell_type": "code",
   "execution_count": 78,
   "metadata": {},
   "outputs": [
    {
     "name": "stdout",
     "output_type": "stream",
     "text": [
      "25077\n"
     ]
    },
    {
     "data": {
      "text/plain": [
       "True"
      ]
     },
     "execution_count": 78,
     "metadata": {},
     "output_type": "execute_result"
    }
   ],
   "source": [
    "print(len(set(rawp.post_url)))\n",
    "len(set(rawp.post_url))==len(set(rawp.post_url.str.strip()))"
   ]
  },
  {
   "cell_type": "markdown",
   "metadata": {},
   "source": [
    "#### So rawp includes more posts than htag, while htag includes more than post.\n",
    "#### But is post_url in post a child collection of htag, and is htag a child collection of rawp?"
   ]
  },
  {
   "cell_type": "code",
   "execution_count": 79,
   "metadata": {},
   "outputs": [
    {
     "data": {
      "text/plain": [
       "True"
      ]
     },
     "execution_count": 79,
     "metadata": {},
     "output_type": "execute_result"
    }
   ],
   "source": [
    "htag.post_url.isin(rawp.post_url).sum()==len(htag.post_url)"
   ]
  },
  {
   "cell_type": "code",
   "execution_count": 80,
   "metadata": {},
   "outputs": [
    {
     "data": {
      "text/plain": [
       "True"
      ]
     },
     "execution_count": 80,
     "metadata": {},
     "output_type": "execute_result"
    }
   ],
   "source": [
    "post.post_url.isin(htag.post_url).sum()==len(post.post_url)"
   ]
  },
  {
   "cell_type": "markdown",
   "metadata": {},
   "source": [
    "#### So the answer is yes. rawp > htag > post.\n",
    "#### Given the fact that the first table post is the main file and contains the most crucial info,\n",
    "#### I will join htag into post (and ignore rawp for now)"
   ]
  },
  {
   "cell_type": "code",
   "execution_count": 81,
   "metadata": {},
   "outputs": [],
   "source": [
    "post = post.merge(htag)"
   ]
  },
  {
   "cell_type": "code",
   "execution_count": 84,
   "metadata": {},
   "outputs": [
    {
     "name": "stderr",
     "output_type": "stream",
     "text": [
      "\r",
      "  0%|          | 0/11637 [00:00<?, ?it/s]"
     ]
    },
    {
     "name": "stdout",
     "output_type": "stream",
     "text": [
      "downloading imgs with urllib\n"
     ]
    },
    {
     "name": "stderr",
     "output_type": "stream",
     "text": [
      "100%|██████████| 11637/11637 [33:14<00:00,  5.83it/s] \n"
     ]
    }
   ],
   "source": [
    "cwd = os.getcwd()\n",
    "if not os.path.exists(cwd+'/data/img/'):\n",
    "    os.makedirs(cwd+'/data/img/')\n",
    "\n",
    "http = urllib3.PoolManager()\n",
    "\n",
    "urls = list(post.img_urls.str.strip('{}'))\n",
    "n =1\n",
    "print(\"downloading imgs with urllib\")\n",
    "for url in tqdm(urls):\n",
    "    r = http.request('GET',url)\n",
    "    Name =str(n) \n",
    "    n += 1\n",
    "    with open(cwd+\"/data/img/file\"+Name+\".jpg\", \"wb\") as img:\n",
    "        img.write(r.data)"
   ]
  },
  {
   "cell_type": "code",
   "execution_count": null,
   "metadata": {},
   "outputs": [],
   "source": []
  }
 ],
 "metadata": {
  "kernelspec": {
   "display_name": "Python 3",
   "language": "python",
   "name": "python3"
  },
  "language_info": {
   "codemirror_mode": {
    "name": "ipython",
    "version": 3
   },
   "file_extension": ".py",
   "mimetype": "text/x-python",
   "name": "python",
   "nbconvert_exporter": "python",
   "pygments_lexer": "ipython3",
   "version": "3.7.3"
  }
 },
 "nbformat": 4,
 "nbformat_minor": 4
}
